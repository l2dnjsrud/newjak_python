{
  "nbformat": 4,
  "nbformat_minor": 0,
  "metadata": {
    "colab": {
      "name": "newjak-python-Day2.ipynb",
      "provenance": [],
      "collapsed_sections": []
    },
    "kernelspec": {
      "name": "python3",
      "display_name": "Python 3"
    },
    "language_info": {
      "name": "python"
    },
    "accelerator": "GPU",
    "gpuClass": "standard",
    "widgets": {
      "application/vnd.jupyter.widget-state+json": {
        "2541e3c4f41042afaa19285b3113483f": {
          "model_module": "@jupyter-widgets/controls",
          "model_name": "HBoxModel",
          "model_module_version": "1.5.0",
          "state": {
            "_dom_classes": [],
            "_model_module": "@jupyter-widgets/controls",
            "_model_module_version": "1.5.0",
            "_model_name": "HBoxModel",
            "_view_count": null,
            "_view_module": "@jupyter-widgets/controls",
            "_view_module_version": "1.5.0",
            "_view_name": "HBoxView",
            "box_style": "",
            "children": [
              "IPY_MODEL_00bf15565a5847e7826d4c981ee0f31b",
              "IPY_MODEL_49edfc3eb65343de824d3b5176f6f978",
              "IPY_MODEL_4927f40b208a45e38ae53b271bf7fc82"
            ],
            "layout": "IPY_MODEL_4d62a482fc0547c0be3a87aa135e5d4e"
          }
        },
        "00bf15565a5847e7826d4c981ee0f31b": {
          "model_module": "@jupyter-widgets/controls",
          "model_name": "HTMLModel",
          "model_module_version": "1.5.0",
          "state": {
            "_dom_classes": [],
            "_model_module": "@jupyter-widgets/controls",
            "_model_module_version": "1.5.0",
            "_model_name": "HTMLModel",
            "_view_count": null,
            "_view_module": "@jupyter-widgets/controls",
            "_view_module_version": "1.5.0",
            "_view_name": "HTMLView",
            "description": "",
            "description_tooltip": null,
            "layout": "IPY_MODEL_681f1ff7fe8a4abf9ad9ebdfc3c4df3c",
            "placeholder": "​",
            "style": "IPY_MODEL_4db19753d415401aa8b8dab29e315fad",
            "value": ""
          }
        },
        "49edfc3eb65343de824d3b5176f6f978": {
          "model_module": "@jupyter-widgets/controls",
          "model_name": "FloatProgressModel",
          "model_module_version": "1.5.0",
          "state": {
            "_dom_classes": [],
            "_model_module": "@jupyter-widgets/controls",
            "_model_module_version": "1.5.0",
            "_model_name": "FloatProgressModel",
            "_view_count": null,
            "_view_module": "@jupyter-widgets/controls",
            "_view_module_version": "1.5.0",
            "_view_name": "ProgressView",
            "bar_style": "success",
            "description": "",
            "description_tooltip": null,
            "layout": "IPY_MODEL_ff0d3f4a50284dee944d399f6aa9767b",
            "max": 9912422,
            "min": 0,
            "orientation": "horizontal",
            "style": "IPY_MODEL_a5c9baa096974bb6bee7f94d9089c369",
            "value": 9912422
          }
        },
        "4927f40b208a45e38ae53b271bf7fc82": {
          "model_module": "@jupyter-widgets/controls",
          "model_name": "HTMLModel",
          "model_module_version": "1.5.0",
          "state": {
            "_dom_classes": [],
            "_model_module": "@jupyter-widgets/controls",
            "_model_module_version": "1.5.0",
            "_model_name": "HTMLModel",
            "_view_count": null,
            "_view_module": "@jupyter-widgets/controls",
            "_view_module_version": "1.5.0",
            "_view_name": "HTMLView",
            "description": "",
            "description_tooltip": null,
            "layout": "IPY_MODEL_71ee685f2f084b7a9e8037428793637b",
            "placeholder": "​",
            "style": "IPY_MODEL_3de3c2cd94844275912e3a847a3289dc",
            "value": " 9913344/? [00:00&lt;00:00, 31402884.43it/s]"
          }
        },
        "4d62a482fc0547c0be3a87aa135e5d4e": {
          "model_module": "@jupyter-widgets/base",
          "model_name": "LayoutModel",
          "model_module_version": "1.2.0",
          "state": {
            "_model_module": "@jupyter-widgets/base",
            "_model_module_version": "1.2.0",
            "_model_name": "LayoutModel",
            "_view_count": null,
            "_view_module": "@jupyter-widgets/base",
            "_view_module_version": "1.2.0",
            "_view_name": "LayoutView",
            "align_content": null,
            "align_items": null,
            "align_self": null,
            "border": null,
            "bottom": null,
            "display": null,
            "flex": null,
            "flex_flow": null,
            "grid_area": null,
            "grid_auto_columns": null,
            "grid_auto_flow": null,
            "grid_auto_rows": null,
            "grid_column": null,
            "grid_gap": null,
            "grid_row": null,
            "grid_template_areas": null,
            "grid_template_columns": null,
            "grid_template_rows": null,
            "height": null,
            "justify_content": null,
            "justify_items": null,
            "left": null,
            "margin": null,
            "max_height": null,
            "max_width": null,
            "min_height": null,
            "min_width": null,
            "object_fit": null,
            "object_position": null,
            "order": null,
            "overflow": null,
            "overflow_x": null,
            "overflow_y": null,
            "padding": null,
            "right": null,
            "top": null,
            "visibility": null,
            "width": null
          }
        },
        "681f1ff7fe8a4abf9ad9ebdfc3c4df3c": {
          "model_module": "@jupyter-widgets/base",
          "model_name": "LayoutModel",
          "model_module_version": "1.2.0",
          "state": {
            "_model_module": "@jupyter-widgets/base",
            "_model_module_version": "1.2.0",
            "_model_name": "LayoutModel",
            "_view_count": null,
            "_view_module": "@jupyter-widgets/base",
            "_view_module_version": "1.2.0",
            "_view_name": "LayoutView",
            "align_content": null,
            "align_items": null,
            "align_self": null,
            "border": null,
            "bottom": null,
            "display": null,
            "flex": null,
            "flex_flow": null,
            "grid_area": null,
            "grid_auto_columns": null,
            "grid_auto_flow": null,
            "grid_auto_rows": null,
            "grid_column": null,
            "grid_gap": null,
            "grid_row": null,
            "grid_template_areas": null,
            "grid_template_columns": null,
            "grid_template_rows": null,
            "height": null,
            "justify_content": null,
            "justify_items": null,
            "left": null,
            "margin": null,
            "max_height": null,
            "max_width": null,
            "min_height": null,
            "min_width": null,
            "object_fit": null,
            "object_position": null,
            "order": null,
            "overflow": null,
            "overflow_x": null,
            "overflow_y": null,
            "padding": null,
            "right": null,
            "top": null,
            "visibility": null,
            "width": null
          }
        },
        "4db19753d415401aa8b8dab29e315fad": {
          "model_module": "@jupyter-widgets/controls",
          "model_name": "DescriptionStyleModel",
          "model_module_version": "1.5.0",
          "state": {
            "_model_module": "@jupyter-widgets/controls",
            "_model_module_version": "1.5.0",
            "_model_name": "DescriptionStyleModel",
            "_view_count": null,
            "_view_module": "@jupyter-widgets/base",
            "_view_module_version": "1.2.0",
            "_view_name": "StyleView",
            "description_width": ""
          }
        },
        "ff0d3f4a50284dee944d399f6aa9767b": {
          "model_module": "@jupyter-widgets/base",
          "model_name": "LayoutModel",
          "model_module_version": "1.2.0",
          "state": {
            "_model_module": "@jupyter-widgets/base",
            "_model_module_version": "1.2.0",
            "_model_name": "LayoutModel",
            "_view_count": null,
            "_view_module": "@jupyter-widgets/base",
            "_view_module_version": "1.2.0",
            "_view_name": "LayoutView",
            "align_content": null,
            "align_items": null,
            "align_self": null,
            "border": null,
            "bottom": null,
            "display": null,
            "flex": null,
            "flex_flow": null,
            "grid_area": null,
            "grid_auto_columns": null,
            "grid_auto_flow": null,
            "grid_auto_rows": null,
            "grid_column": null,
            "grid_gap": null,
            "grid_row": null,
            "grid_template_areas": null,
            "grid_template_columns": null,
            "grid_template_rows": null,
            "height": null,
            "justify_content": null,
            "justify_items": null,
            "left": null,
            "margin": null,
            "max_height": null,
            "max_width": null,
            "min_height": null,
            "min_width": null,
            "object_fit": null,
            "object_position": null,
            "order": null,
            "overflow": null,
            "overflow_x": null,
            "overflow_y": null,
            "padding": null,
            "right": null,
            "top": null,
            "visibility": null,
            "width": null
          }
        },
        "a5c9baa096974bb6bee7f94d9089c369": {
          "model_module": "@jupyter-widgets/controls",
          "model_name": "ProgressStyleModel",
          "model_module_version": "1.5.0",
          "state": {
            "_model_module": "@jupyter-widgets/controls",
            "_model_module_version": "1.5.0",
            "_model_name": "ProgressStyleModel",
            "_view_count": null,
            "_view_module": "@jupyter-widgets/base",
            "_view_module_version": "1.2.0",
            "_view_name": "StyleView",
            "bar_color": null,
            "description_width": ""
          }
        },
        "71ee685f2f084b7a9e8037428793637b": {
          "model_module": "@jupyter-widgets/base",
          "model_name": "LayoutModel",
          "model_module_version": "1.2.0",
          "state": {
            "_model_module": "@jupyter-widgets/base",
            "_model_module_version": "1.2.0",
            "_model_name": "LayoutModel",
            "_view_count": null,
            "_view_module": "@jupyter-widgets/base",
            "_view_module_version": "1.2.0",
            "_view_name": "LayoutView",
            "align_content": null,
            "align_items": null,
            "align_self": null,
            "border": null,
            "bottom": null,
            "display": null,
            "flex": null,
            "flex_flow": null,
            "grid_area": null,
            "grid_auto_columns": null,
            "grid_auto_flow": null,
            "grid_auto_rows": null,
            "grid_column": null,
            "grid_gap": null,
            "grid_row": null,
            "grid_template_areas": null,
            "grid_template_columns": null,
            "grid_template_rows": null,
            "height": null,
            "justify_content": null,
            "justify_items": null,
            "left": null,
            "margin": null,
            "max_height": null,
            "max_width": null,
            "min_height": null,
            "min_width": null,
            "object_fit": null,
            "object_position": null,
            "order": null,
            "overflow": null,
            "overflow_x": null,
            "overflow_y": null,
            "padding": null,
            "right": null,
            "top": null,
            "visibility": null,
            "width": null
          }
        },
        "3de3c2cd94844275912e3a847a3289dc": {
          "model_module": "@jupyter-widgets/controls",
          "model_name": "DescriptionStyleModel",
          "model_module_version": "1.5.0",
          "state": {
            "_model_module": "@jupyter-widgets/controls",
            "_model_module_version": "1.5.0",
            "_model_name": "DescriptionStyleModel",
            "_view_count": null,
            "_view_module": "@jupyter-widgets/base",
            "_view_module_version": "1.2.0",
            "_view_name": "StyleView",
            "description_width": ""
          }
        },
        "f77b70147c5c484daa5c1dd4ba9360ce": {
          "model_module": "@jupyter-widgets/controls",
          "model_name": "HBoxModel",
          "model_module_version": "1.5.0",
          "state": {
            "_dom_classes": [],
            "_model_module": "@jupyter-widgets/controls",
            "_model_module_version": "1.5.0",
            "_model_name": "HBoxModel",
            "_view_count": null,
            "_view_module": "@jupyter-widgets/controls",
            "_view_module_version": "1.5.0",
            "_view_name": "HBoxView",
            "box_style": "",
            "children": [
              "IPY_MODEL_1559c23812094601b8660a5b293f6725",
              "IPY_MODEL_768557dc31854f058eb717937fc8716c",
              "IPY_MODEL_df11684805eb461f83a502629663fd73"
            ],
            "layout": "IPY_MODEL_3fe85133cf7a4c378faf1594630373bd"
          }
        },
        "1559c23812094601b8660a5b293f6725": {
          "model_module": "@jupyter-widgets/controls",
          "model_name": "HTMLModel",
          "model_module_version": "1.5.0",
          "state": {
            "_dom_classes": [],
            "_model_module": "@jupyter-widgets/controls",
            "_model_module_version": "1.5.0",
            "_model_name": "HTMLModel",
            "_view_count": null,
            "_view_module": "@jupyter-widgets/controls",
            "_view_module_version": "1.5.0",
            "_view_name": "HTMLView",
            "description": "",
            "description_tooltip": null,
            "layout": "IPY_MODEL_1293a2337f09451eb1e57369789d7532",
            "placeholder": "​",
            "style": "IPY_MODEL_e0bef488ead54c329d7720feb216325e",
            "value": ""
          }
        },
        "768557dc31854f058eb717937fc8716c": {
          "model_module": "@jupyter-widgets/controls",
          "model_name": "FloatProgressModel",
          "model_module_version": "1.5.0",
          "state": {
            "_dom_classes": [],
            "_model_module": "@jupyter-widgets/controls",
            "_model_module_version": "1.5.0",
            "_model_name": "FloatProgressModel",
            "_view_count": null,
            "_view_module": "@jupyter-widgets/controls",
            "_view_module_version": "1.5.0",
            "_view_name": "ProgressView",
            "bar_style": "success",
            "description": "",
            "description_tooltip": null,
            "layout": "IPY_MODEL_f52791b8e8364e2a9f80bf85441566da",
            "max": 28881,
            "min": 0,
            "orientation": "horizontal",
            "style": "IPY_MODEL_8293ee9c9dd4493eaa7df710856c1cc3",
            "value": 28881
          }
        },
        "df11684805eb461f83a502629663fd73": {
          "model_module": "@jupyter-widgets/controls",
          "model_name": "HTMLModel",
          "model_module_version": "1.5.0",
          "state": {
            "_dom_classes": [],
            "_model_module": "@jupyter-widgets/controls",
            "_model_module_version": "1.5.0",
            "_model_name": "HTMLModel",
            "_view_count": null,
            "_view_module": "@jupyter-widgets/controls",
            "_view_module_version": "1.5.0",
            "_view_name": "HTMLView",
            "description": "",
            "description_tooltip": null,
            "layout": "IPY_MODEL_78891762eae04ebf967130656ff0c852",
            "placeholder": "​",
            "style": "IPY_MODEL_1b24235f8c2d44a08395862ab2b35b45",
            "value": " 29696/? [00:00&lt;00:00, 877073.27it/s]"
          }
        },
        "3fe85133cf7a4c378faf1594630373bd": {
          "model_module": "@jupyter-widgets/base",
          "model_name": "LayoutModel",
          "model_module_version": "1.2.0",
          "state": {
            "_model_module": "@jupyter-widgets/base",
            "_model_module_version": "1.2.0",
            "_model_name": "LayoutModel",
            "_view_count": null,
            "_view_module": "@jupyter-widgets/base",
            "_view_module_version": "1.2.0",
            "_view_name": "LayoutView",
            "align_content": null,
            "align_items": null,
            "align_self": null,
            "border": null,
            "bottom": null,
            "display": null,
            "flex": null,
            "flex_flow": null,
            "grid_area": null,
            "grid_auto_columns": null,
            "grid_auto_flow": null,
            "grid_auto_rows": null,
            "grid_column": null,
            "grid_gap": null,
            "grid_row": null,
            "grid_template_areas": null,
            "grid_template_columns": null,
            "grid_template_rows": null,
            "height": null,
            "justify_content": null,
            "justify_items": null,
            "left": null,
            "margin": null,
            "max_height": null,
            "max_width": null,
            "min_height": null,
            "min_width": null,
            "object_fit": null,
            "object_position": null,
            "order": null,
            "overflow": null,
            "overflow_x": null,
            "overflow_y": null,
            "padding": null,
            "right": null,
            "top": null,
            "visibility": null,
            "width": null
          }
        },
        "1293a2337f09451eb1e57369789d7532": {
          "model_module": "@jupyter-widgets/base",
          "model_name": "LayoutModel",
          "model_module_version": "1.2.0",
          "state": {
            "_model_module": "@jupyter-widgets/base",
            "_model_module_version": "1.2.0",
            "_model_name": "LayoutModel",
            "_view_count": null,
            "_view_module": "@jupyter-widgets/base",
            "_view_module_version": "1.2.0",
            "_view_name": "LayoutView",
            "align_content": null,
            "align_items": null,
            "align_self": null,
            "border": null,
            "bottom": null,
            "display": null,
            "flex": null,
            "flex_flow": null,
            "grid_area": null,
            "grid_auto_columns": null,
            "grid_auto_flow": null,
            "grid_auto_rows": null,
            "grid_column": null,
            "grid_gap": null,
            "grid_row": null,
            "grid_template_areas": null,
            "grid_template_columns": null,
            "grid_template_rows": null,
            "height": null,
            "justify_content": null,
            "justify_items": null,
            "left": null,
            "margin": null,
            "max_height": null,
            "max_width": null,
            "min_height": null,
            "min_width": null,
            "object_fit": null,
            "object_position": null,
            "order": null,
            "overflow": null,
            "overflow_x": null,
            "overflow_y": null,
            "padding": null,
            "right": null,
            "top": null,
            "visibility": null,
            "width": null
          }
        },
        "e0bef488ead54c329d7720feb216325e": {
          "model_module": "@jupyter-widgets/controls",
          "model_name": "DescriptionStyleModel",
          "model_module_version": "1.5.0",
          "state": {
            "_model_module": "@jupyter-widgets/controls",
            "_model_module_version": "1.5.0",
            "_model_name": "DescriptionStyleModel",
            "_view_count": null,
            "_view_module": "@jupyter-widgets/base",
            "_view_module_version": "1.2.0",
            "_view_name": "StyleView",
            "description_width": ""
          }
        },
        "f52791b8e8364e2a9f80bf85441566da": {
          "model_module": "@jupyter-widgets/base",
          "model_name": "LayoutModel",
          "model_module_version": "1.2.0",
          "state": {
            "_model_module": "@jupyter-widgets/base",
            "_model_module_version": "1.2.0",
            "_model_name": "LayoutModel",
            "_view_count": null,
            "_view_module": "@jupyter-widgets/base",
            "_view_module_version": "1.2.0",
            "_view_name": "LayoutView",
            "align_content": null,
            "align_items": null,
            "align_self": null,
            "border": null,
            "bottom": null,
            "display": null,
            "flex": null,
            "flex_flow": null,
            "grid_area": null,
            "grid_auto_columns": null,
            "grid_auto_flow": null,
            "grid_auto_rows": null,
            "grid_column": null,
            "grid_gap": null,
            "grid_row": null,
            "grid_template_areas": null,
            "grid_template_columns": null,
            "grid_template_rows": null,
            "height": null,
            "justify_content": null,
            "justify_items": null,
            "left": null,
            "margin": null,
            "max_height": null,
            "max_width": null,
            "min_height": null,
            "min_width": null,
            "object_fit": null,
            "object_position": null,
            "order": null,
            "overflow": null,
            "overflow_x": null,
            "overflow_y": null,
            "padding": null,
            "right": null,
            "top": null,
            "visibility": null,
            "width": null
          }
        },
        "8293ee9c9dd4493eaa7df710856c1cc3": {
          "model_module": "@jupyter-widgets/controls",
          "model_name": "ProgressStyleModel",
          "model_module_version": "1.5.0",
          "state": {
            "_model_module": "@jupyter-widgets/controls",
            "_model_module_version": "1.5.0",
            "_model_name": "ProgressStyleModel",
            "_view_count": null,
            "_view_module": "@jupyter-widgets/base",
            "_view_module_version": "1.2.0",
            "_view_name": "StyleView",
            "bar_color": null,
            "description_width": ""
          }
        },
        "78891762eae04ebf967130656ff0c852": {
          "model_module": "@jupyter-widgets/base",
          "model_name": "LayoutModel",
          "model_module_version": "1.2.0",
          "state": {
            "_model_module": "@jupyter-widgets/base",
            "_model_module_version": "1.2.0",
            "_model_name": "LayoutModel",
            "_view_count": null,
            "_view_module": "@jupyter-widgets/base",
            "_view_module_version": "1.2.0",
            "_view_name": "LayoutView",
            "align_content": null,
            "align_items": null,
            "align_self": null,
            "border": null,
            "bottom": null,
            "display": null,
            "flex": null,
            "flex_flow": null,
            "grid_area": null,
            "grid_auto_columns": null,
            "grid_auto_flow": null,
            "grid_auto_rows": null,
            "grid_column": null,
            "grid_gap": null,
            "grid_row": null,
            "grid_template_areas": null,
            "grid_template_columns": null,
            "grid_template_rows": null,
            "height": null,
            "justify_content": null,
            "justify_items": null,
            "left": null,
            "margin": null,
            "max_height": null,
            "max_width": null,
            "min_height": null,
            "min_width": null,
            "object_fit": null,
            "object_position": null,
            "order": null,
            "overflow": null,
            "overflow_x": null,
            "overflow_y": null,
            "padding": null,
            "right": null,
            "top": null,
            "visibility": null,
            "width": null
          }
        },
        "1b24235f8c2d44a08395862ab2b35b45": {
          "model_module": "@jupyter-widgets/controls",
          "model_name": "DescriptionStyleModel",
          "model_module_version": "1.5.0",
          "state": {
            "_model_module": "@jupyter-widgets/controls",
            "_model_module_version": "1.5.0",
            "_model_name": "DescriptionStyleModel",
            "_view_count": null,
            "_view_module": "@jupyter-widgets/base",
            "_view_module_version": "1.2.0",
            "_view_name": "StyleView",
            "description_width": ""
          }
        },
        "d7af4540581b409fad8460d4e60839ea": {
          "model_module": "@jupyter-widgets/controls",
          "model_name": "HBoxModel",
          "model_module_version": "1.5.0",
          "state": {
            "_dom_classes": [],
            "_model_module": "@jupyter-widgets/controls",
            "_model_module_version": "1.5.0",
            "_model_name": "HBoxModel",
            "_view_count": null,
            "_view_module": "@jupyter-widgets/controls",
            "_view_module_version": "1.5.0",
            "_view_name": "HBoxView",
            "box_style": "",
            "children": [
              "IPY_MODEL_75c56ed01bbc436a82c23d27b952d78f",
              "IPY_MODEL_f9169d1a783047709e47a1d44ce9164c",
              "IPY_MODEL_238e3ffaf0714f01bddb307ab74be9bb"
            ],
            "layout": "IPY_MODEL_c64bfd3bb3fd4f7cb3e9ba9309aab7cd"
          }
        },
        "75c56ed01bbc436a82c23d27b952d78f": {
          "model_module": "@jupyter-widgets/controls",
          "model_name": "HTMLModel",
          "model_module_version": "1.5.0",
          "state": {
            "_dom_classes": [],
            "_model_module": "@jupyter-widgets/controls",
            "_model_module_version": "1.5.0",
            "_model_name": "HTMLModel",
            "_view_count": null,
            "_view_module": "@jupyter-widgets/controls",
            "_view_module_version": "1.5.0",
            "_view_name": "HTMLView",
            "description": "",
            "description_tooltip": null,
            "layout": "IPY_MODEL_c5d399cca7d44193850d0ee0b64267c7",
            "placeholder": "​",
            "style": "IPY_MODEL_125229d326bb42898a78d2c9b79473ef",
            "value": ""
          }
        },
        "f9169d1a783047709e47a1d44ce9164c": {
          "model_module": "@jupyter-widgets/controls",
          "model_name": "FloatProgressModel",
          "model_module_version": "1.5.0",
          "state": {
            "_dom_classes": [],
            "_model_module": "@jupyter-widgets/controls",
            "_model_module_version": "1.5.0",
            "_model_name": "FloatProgressModel",
            "_view_count": null,
            "_view_module": "@jupyter-widgets/controls",
            "_view_module_version": "1.5.0",
            "_view_name": "ProgressView",
            "bar_style": "success",
            "description": "",
            "description_tooltip": null,
            "layout": "IPY_MODEL_943ba356fe2740778ea540cf6d0b436b",
            "max": 1648877,
            "min": 0,
            "orientation": "horizontal",
            "style": "IPY_MODEL_7c5ba0cf34e64ea286ab365f3684c10c",
            "value": 1648877
          }
        },
        "238e3ffaf0714f01bddb307ab74be9bb": {
          "model_module": "@jupyter-widgets/controls",
          "model_name": "HTMLModel",
          "model_module_version": "1.5.0",
          "state": {
            "_dom_classes": [],
            "_model_module": "@jupyter-widgets/controls",
            "_model_module_version": "1.5.0",
            "_model_name": "HTMLModel",
            "_view_count": null,
            "_view_module": "@jupyter-widgets/controls",
            "_view_module_version": "1.5.0",
            "_view_name": "HTMLView",
            "description": "",
            "description_tooltip": null,
            "layout": "IPY_MODEL_e09c2dadb9fb4b2e8e36ab23ff919115",
            "placeholder": "​",
            "style": "IPY_MODEL_1a16563ce68b4c0a8ea7635e4edd7002",
            "value": " 1649664/? [00:00&lt;00:00, 3993067.21it/s]"
          }
        },
        "c64bfd3bb3fd4f7cb3e9ba9309aab7cd": {
          "model_module": "@jupyter-widgets/base",
          "model_name": "LayoutModel",
          "model_module_version": "1.2.0",
          "state": {
            "_model_module": "@jupyter-widgets/base",
            "_model_module_version": "1.2.0",
            "_model_name": "LayoutModel",
            "_view_count": null,
            "_view_module": "@jupyter-widgets/base",
            "_view_module_version": "1.2.0",
            "_view_name": "LayoutView",
            "align_content": null,
            "align_items": null,
            "align_self": null,
            "border": null,
            "bottom": null,
            "display": null,
            "flex": null,
            "flex_flow": null,
            "grid_area": null,
            "grid_auto_columns": null,
            "grid_auto_flow": null,
            "grid_auto_rows": null,
            "grid_column": null,
            "grid_gap": null,
            "grid_row": null,
            "grid_template_areas": null,
            "grid_template_columns": null,
            "grid_template_rows": null,
            "height": null,
            "justify_content": null,
            "justify_items": null,
            "left": null,
            "margin": null,
            "max_height": null,
            "max_width": null,
            "min_height": null,
            "min_width": null,
            "object_fit": null,
            "object_position": null,
            "order": null,
            "overflow": null,
            "overflow_x": null,
            "overflow_y": null,
            "padding": null,
            "right": null,
            "top": null,
            "visibility": null,
            "width": null
          }
        },
        "c5d399cca7d44193850d0ee0b64267c7": {
          "model_module": "@jupyter-widgets/base",
          "model_name": "LayoutModel",
          "model_module_version": "1.2.0",
          "state": {
            "_model_module": "@jupyter-widgets/base",
            "_model_module_version": "1.2.0",
            "_model_name": "LayoutModel",
            "_view_count": null,
            "_view_module": "@jupyter-widgets/base",
            "_view_module_version": "1.2.0",
            "_view_name": "LayoutView",
            "align_content": null,
            "align_items": null,
            "align_self": null,
            "border": null,
            "bottom": null,
            "display": null,
            "flex": null,
            "flex_flow": null,
            "grid_area": null,
            "grid_auto_columns": null,
            "grid_auto_flow": null,
            "grid_auto_rows": null,
            "grid_column": null,
            "grid_gap": null,
            "grid_row": null,
            "grid_template_areas": null,
            "grid_template_columns": null,
            "grid_template_rows": null,
            "height": null,
            "justify_content": null,
            "justify_items": null,
            "left": null,
            "margin": null,
            "max_height": null,
            "max_width": null,
            "min_height": null,
            "min_width": null,
            "object_fit": null,
            "object_position": null,
            "order": null,
            "overflow": null,
            "overflow_x": null,
            "overflow_y": null,
            "padding": null,
            "right": null,
            "top": null,
            "visibility": null,
            "width": null
          }
        },
        "125229d326bb42898a78d2c9b79473ef": {
          "model_module": "@jupyter-widgets/controls",
          "model_name": "DescriptionStyleModel",
          "model_module_version": "1.5.0",
          "state": {
            "_model_module": "@jupyter-widgets/controls",
            "_model_module_version": "1.5.0",
            "_model_name": "DescriptionStyleModel",
            "_view_count": null,
            "_view_module": "@jupyter-widgets/base",
            "_view_module_version": "1.2.0",
            "_view_name": "StyleView",
            "description_width": ""
          }
        },
        "943ba356fe2740778ea540cf6d0b436b": {
          "model_module": "@jupyter-widgets/base",
          "model_name": "LayoutModel",
          "model_module_version": "1.2.0",
          "state": {
            "_model_module": "@jupyter-widgets/base",
            "_model_module_version": "1.2.0",
            "_model_name": "LayoutModel",
            "_view_count": null,
            "_view_module": "@jupyter-widgets/base",
            "_view_module_version": "1.2.0",
            "_view_name": "LayoutView",
            "align_content": null,
            "align_items": null,
            "align_self": null,
            "border": null,
            "bottom": null,
            "display": null,
            "flex": null,
            "flex_flow": null,
            "grid_area": null,
            "grid_auto_columns": null,
            "grid_auto_flow": null,
            "grid_auto_rows": null,
            "grid_column": null,
            "grid_gap": null,
            "grid_row": null,
            "grid_template_areas": null,
            "grid_template_columns": null,
            "grid_template_rows": null,
            "height": null,
            "justify_content": null,
            "justify_items": null,
            "left": null,
            "margin": null,
            "max_height": null,
            "max_width": null,
            "min_height": null,
            "min_width": null,
            "object_fit": null,
            "object_position": null,
            "order": null,
            "overflow": null,
            "overflow_x": null,
            "overflow_y": null,
            "padding": null,
            "right": null,
            "top": null,
            "visibility": null,
            "width": null
          }
        },
        "7c5ba0cf34e64ea286ab365f3684c10c": {
          "model_module": "@jupyter-widgets/controls",
          "model_name": "ProgressStyleModel",
          "model_module_version": "1.5.0",
          "state": {
            "_model_module": "@jupyter-widgets/controls",
            "_model_module_version": "1.5.0",
            "_model_name": "ProgressStyleModel",
            "_view_count": null,
            "_view_module": "@jupyter-widgets/base",
            "_view_module_version": "1.2.0",
            "_view_name": "StyleView",
            "bar_color": null,
            "description_width": ""
          }
        },
        "e09c2dadb9fb4b2e8e36ab23ff919115": {
          "model_module": "@jupyter-widgets/base",
          "model_name": "LayoutModel",
          "model_module_version": "1.2.0",
          "state": {
            "_model_module": "@jupyter-widgets/base",
            "_model_module_version": "1.2.0",
            "_model_name": "LayoutModel",
            "_view_count": null,
            "_view_module": "@jupyter-widgets/base",
            "_view_module_version": "1.2.0",
            "_view_name": "LayoutView",
            "align_content": null,
            "align_items": null,
            "align_self": null,
            "border": null,
            "bottom": null,
            "display": null,
            "flex": null,
            "flex_flow": null,
            "grid_area": null,
            "grid_auto_columns": null,
            "grid_auto_flow": null,
            "grid_auto_rows": null,
            "grid_column": null,
            "grid_gap": null,
            "grid_row": null,
            "grid_template_areas": null,
            "grid_template_columns": null,
            "grid_template_rows": null,
            "height": null,
            "justify_content": null,
            "justify_items": null,
            "left": null,
            "margin": null,
            "max_height": null,
            "max_width": null,
            "min_height": null,
            "min_width": null,
            "object_fit": null,
            "object_position": null,
            "order": null,
            "overflow": null,
            "overflow_x": null,
            "overflow_y": null,
            "padding": null,
            "right": null,
            "top": null,
            "visibility": null,
            "width": null
          }
        },
        "1a16563ce68b4c0a8ea7635e4edd7002": {
          "model_module": "@jupyter-widgets/controls",
          "model_name": "DescriptionStyleModel",
          "model_module_version": "1.5.0",
          "state": {
            "_model_module": "@jupyter-widgets/controls",
            "_model_module_version": "1.5.0",
            "_model_name": "DescriptionStyleModel",
            "_view_count": null,
            "_view_module": "@jupyter-widgets/base",
            "_view_module_version": "1.2.0",
            "_view_name": "StyleView",
            "description_width": ""
          }
        },
        "473c2a1017ab425f91d6e912489c9fd5": {
          "model_module": "@jupyter-widgets/controls",
          "model_name": "HBoxModel",
          "model_module_version": "1.5.0",
          "state": {
            "_dom_classes": [],
            "_model_module": "@jupyter-widgets/controls",
            "_model_module_version": "1.5.0",
            "_model_name": "HBoxModel",
            "_view_count": null,
            "_view_module": "@jupyter-widgets/controls",
            "_view_module_version": "1.5.0",
            "_view_name": "HBoxView",
            "box_style": "",
            "children": [
              "IPY_MODEL_d3f01469b753413fbc21b357a2b1c983",
              "IPY_MODEL_823f8dd55e7f461482e0472330d613a1",
              "IPY_MODEL_20c509c081f9477384758a3dc1bf21c8"
            ],
            "layout": "IPY_MODEL_858ea1a618ad47599434b12a300e9edd"
          }
        },
        "d3f01469b753413fbc21b357a2b1c983": {
          "model_module": "@jupyter-widgets/controls",
          "model_name": "HTMLModel",
          "model_module_version": "1.5.0",
          "state": {
            "_dom_classes": [],
            "_model_module": "@jupyter-widgets/controls",
            "_model_module_version": "1.5.0",
            "_model_name": "HTMLModel",
            "_view_count": null,
            "_view_module": "@jupyter-widgets/controls",
            "_view_module_version": "1.5.0",
            "_view_name": "HTMLView",
            "description": "",
            "description_tooltip": null,
            "layout": "IPY_MODEL_895665f363c945f5a2e36cb360d91664",
            "placeholder": "​",
            "style": "IPY_MODEL_429cdf7ca9f04fb9ab866016a1ae23b0",
            "value": ""
          }
        },
        "823f8dd55e7f461482e0472330d613a1": {
          "model_module": "@jupyter-widgets/controls",
          "model_name": "FloatProgressModel",
          "model_module_version": "1.5.0",
          "state": {
            "_dom_classes": [],
            "_model_module": "@jupyter-widgets/controls",
            "_model_module_version": "1.5.0",
            "_model_name": "FloatProgressModel",
            "_view_count": null,
            "_view_module": "@jupyter-widgets/controls",
            "_view_module_version": "1.5.0",
            "_view_name": "ProgressView",
            "bar_style": "success",
            "description": "",
            "description_tooltip": null,
            "layout": "IPY_MODEL_2ad444dec9764b14855a17d7b549947c",
            "max": 4542,
            "min": 0,
            "orientation": "horizontal",
            "style": "IPY_MODEL_20ca152ea3e4454eba44183e248b3824",
            "value": 4542
          }
        },
        "20c509c081f9477384758a3dc1bf21c8": {
          "model_module": "@jupyter-widgets/controls",
          "model_name": "HTMLModel",
          "model_module_version": "1.5.0",
          "state": {
            "_dom_classes": [],
            "_model_module": "@jupyter-widgets/controls",
            "_model_module_version": "1.5.0",
            "_model_name": "HTMLModel",
            "_view_count": null,
            "_view_module": "@jupyter-widgets/controls",
            "_view_module_version": "1.5.0",
            "_view_name": "HTMLView",
            "description": "",
            "description_tooltip": null,
            "layout": "IPY_MODEL_219e2caed3564f4d94c62c7a6c1a5458",
            "placeholder": "​",
            "style": "IPY_MODEL_f66d2fa296564f188c96d66df64fcda2",
            "value": " 5120/? [00:00&lt;00:00, 107111.76it/s]"
          }
        },
        "858ea1a618ad47599434b12a300e9edd": {
          "model_module": "@jupyter-widgets/base",
          "model_name": "LayoutModel",
          "model_module_version": "1.2.0",
          "state": {
            "_model_module": "@jupyter-widgets/base",
            "_model_module_version": "1.2.0",
            "_model_name": "LayoutModel",
            "_view_count": null,
            "_view_module": "@jupyter-widgets/base",
            "_view_module_version": "1.2.0",
            "_view_name": "LayoutView",
            "align_content": null,
            "align_items": null,
            "align_self": null,
            "border": null,
            "bottom": null,
            "display": null,
            "flex": null,
            "flex_flow": null,
            "grid_area": null,
            "grid_auto_columns": null,
            "grid_auto_flow": null,
            "grid_auto_rows": null,
            "grid_column": null,
            "grid_gap": null,
            "grid_row": null,
            "grid_template_areas": null,
            "grid_template_columns": null,
            "grid_template_rows": null,
            "height": null,
            "justify_content": null,
            "justify_items": null,
            "left": null,
            "margin": null,
            "max_height": null,
            "max_width": null,
            "min_height": null,
            "min_width": null,
            "object_fit": null,
            "object_position": null,
            "order": null,
            "overflow": null,
            "overflow_x": null,
            "overflow_y": null,
            "padding": null,
            "right": null,
            "top": null,
            "visibility": null,
            "width": null
          }
        },
        "895665f363c945f5a2e36cb360d91664": {
          "model_module": "@jupyter-widgets/base",
          "model_name": "LayoutModel",
          "model_module_version": "1.2.0",
          "state": {
            "_model_module": "@jupyter-widgets/base",
            "_model_module_version": "1.2.0",
            "_model_name": "LayoutModel",
            "_view_count": null,
            "_view_module": "@jupyter-widgets/base",
            "_view_module_version": "1.2.0",
            "_view_name": "LayoutView",
            "align_content": null,
            "align_items": null,
            "align_self": null,
            "border": null,
            "bottom": null,
            "display": null,
            "flex": null,
            "flex_flow": null,
            "grid_area": null,
            "grid_auto_columns": null,
            "grid_auto_flow": null,
            "grid_auto_rows": null,
            "grid_column": null,
            "grid_gap": null,
            "grid_row": null,
            "grid_template_areas": null,
            "grid_template_columns": null,
            "grid_template_rows": null,
            "height": null,
            "justify_content": null,
            "justify_items": null,
            "left": null,
            "margin": null,
            "max_height": null,
            "max_width": null,
            "min_height": null,
            "min_width": null,
            "object_fit": null,
            "object_position": null,
            "order": null,
            "overflow": null,
            "overflow_x": null,
            "overflow_y": null,
            "padding": null,
            "right": null,
            "top": null,
            "visibility": null,
            "width": null
          }
        },
        "429cdf7ca9f04fb9ab866016a1ae23b0": {
          "model_module": "@jupyter-widgets/controls",
          "model_name": "DescriptionStyleModel",
          "model_module_version": "1.5.0",
          "state": {
            "_model_module": "@jupyter-widgets/controls",
            "_model_module_version": "1.5.0",
            "_model_name": "DescriptionStyleModel",
            "_view_count": null,
            "_view_module": "@jupyter-widgets/base",
            "_view_module_version": "1.2.0",
            "_view_name": "StyleView",
            "description_width": ""
          }
        },
        "2ad444dec9764b14855a17d7b549947c": {
          "model_module": "@jupyter-widgets/base",
          "model_name": "LayoutModel",
          "model_module_version": "1.2.0",
          "state": {
            "_model_module": "@jupyter-widgets/base",
            "_model_module_version": "1.2.0",
            "_model_name": "LayoutModel",
            "_view_count": null,
            "_view_module": "@jupyter-widgets/base",
            "_view_module_version": "1.2.0",
            "_view_name": "LayoutView",
            "align_content": null,
            "align_items": null,
            "align_self": null,
            "border": null,
            "bottom": null,
            "display": null,
            "flex": null,
            "flex_flow": null,
            "grid_area": null,
            "grid_auto_columns": null,
            "grid_auto_flow": null,
            "grid_auto_rows": null,
            "grid_column": null,
            "grid_gap": null,
            "grid_row": null,
            "grid_template_areas": null,
            "grid_template_columns": null,
            "grid_template_rows": null,
            "height": null,
            "justify_content": null,
            "justify_items": null,
            "left": null,
            "margin": null,
            "max_height": null,
            "max_width": null,
            "min_height": null,
            "min_width": null,
            "object_fit": null,
            "object_position": null,
            "order": null,
            "overflow": null,
            "overflow_x": null,
            "overflow_y": null,
            "padding": null,
            "right": null,
            "top": null,
            "visibility": null,
            "width": null
          }
        },
        "20ca152ea3e4454eba44183e248b3824": {
          "model_module": "@jupyter-widgets/controls",
          "model_name": "ProgressStyleModel",
          "model_module_version": "1.5.0",
          "state": {
            "_model_module": "@jupyter-widgets/controls",
            "_model_module_version": "1.5.0",
            "_model_name": "ProgressStyleModel",
            "_view_count": null,
            "_view_module": "@jupyter-widgets/base",
            "_view_module_version": "1.2.0",
            "_view_name": "StyleView",
            "bar_color": null,
            "description_width": ""
          }
        },
        "219e2caed3564f4d94c62c7a6c1a5458": {
          "model_module": "@jupyter-widgets/base",
          "model_name": "LayoutModel",
          "model_module_version": "1.2.0",
          "state": {
            "_model_module": "@jupyter-widgets/base",
            "_model_module_version": "1.2.0",
            "_model_name": "LayoutModel",
            "_view_count": null,
            "_view_module": "@jupyter-widgets/base",
            "_view_module_version": "1.2.0",
            "_view_name": "LayoutView",
            "align_content": null,
            "align_items": null,
            "align_self": null,
            "border": null,
            "bottom": null,
            "display": null,
            "flex": null,
            "flex_flow": null,
            "grid_area": null,
            "grid_auto_columns": null,
            "grid_auto_flow": null,
            "grid_auto_rows": null,
            "grid_column": null,
            "grid_gap": null,
            "grid_row": null,
            "grid_template_areas": null,
            "grid_template_columns": null,
            "grid_template_rows": null,
            "height": null,
            "justify_content": null,
            "justify_items": null,
            "left": null,
            "margin": null,
            "max_height": null,
            "max_width": null,
            "min_height": null,
            "min_width": null,
            "object_fit": null,
            "object_position": null,
            "order": null,
            "overflow": null,
            "overflow_x": null,
            "overflow_y": null,
            "padding": null,
            "right": null,
            "top": null,
            "visibility": null,
            "width": null
          }
        },
        "f66d2fa296564f188c96d66df64fcda2": {
          "model_module": "@jupyter-widgets/controls",
          "model_name": "DescriptionStyleModel",
          "model_module_version": "1.5.0",
          "state": {
            "_model_module": "@jupyter-widgets/controls",
            "_model_module_version": "1.5.0",
            "_model_name": "DescriptionStyleModel",
            "_view_count": null,
            "_view_module": "@jupyter-widgets/base",
            "_view_module_version": "1.2.0",
            "_view_name": "StyleView",
            "description_width": ""
          }
        }
      }
    }
  },
  "cells": [
    {
      "cell_type": "code",
      "execution_count": 3,
      "metadata": {
        "colab": {
          "base_uri": "https://localhost:8080/"
        },
        "id": "SxwQUCWJui_M",
        "outputId": "2cae78e9-bbe0-4973-b5bc-a355f627c3b7"
      },
      "outputs": [
        {
          "output_type": "stream",
          "name": "stdout",
          "text": [
            "Hello, world\n",
            "정수: 3, 03, 003, 0003, 00003\n",
            "실수: 256, 256.1, 256.12\n",
            "문자열: [Hello, world]\n"
          ]
        }
      ],
      "source": [
        "print(\"Hello, world\")\n",
        "\n",
        "# integer\n",
        "x = 3\n",
        "print(\"정수: %01d, %02d, %03d, %04d, %05d\"\n",
        "    % (x,x,x,x,x))\n",
        "\n",
        "#integer\n",
        "x = 256.123\n",
        "print (\"실수: %.0f, %.1f, %.2f\"\n",
        "    % (x,x,x))\n",
        "\n",
        "#string\n",
        "x = \"Hello, world\"\n",
        "print(\"문자열: [%s]\" % (x))"
      ]
    },
    {
      "cell_type": "code",
      "source": [
        "contents  = [\"Regression\", \"Classification\", \"SVM\", \"Clustering\", \"Demension reduction\", \n",
        "             \"NN\", \"CNN\", \"AE\", \"GAN\", \"RNN\"]\n",
        "for con in contents:\n",
        "    if con in  [\"Regression\", \"Classification\", \"SVM\", \"Clustering\", \"Demension reduction\"]:\n",
        "        print (\"%s 은(는) 기계학습 내용입니다.\" %con)\n",
        "    elif con in [\"CNN\"]:\n",
        "        print (\"%s 은(는) convolutional neural network 입니다.\" %con)\n",
        "    else:\n",
        "        print (\"%s 은(는) 심층학습 내용입니다.\")"
      ],
      "metadata": {
        "colab": {
          "base_uri": "https://localhost:8080/"
        },
        "id": "PT0lk3lJvtN3",
        "outputId": "870f8efd-29ab-41a5-8e7f-7e276ffe0b02"
      },
      "execution_count": 4,
      "outputs": [
        {
          "output_type": "stream",
          "name": "stdout",
          "text": [
            "Regression 은(는) 기계학습 내용입니다.\n",
            "Classification 은(는) 기계학습 내용입니다.\n",
            "SVM 은(는) 기계학습 내용입니다.\n",
            "Clustering 은(는) 기계학습 내용입니다.\n",
            "Demension reduction 은(는) 기계학습 내용입니다.\n",
            "%s 은(는) 심층학습 내용입니다.\n",
            "CNN 은(는) convolutional neural network 입니다.\n",
            "%s 은(는) 심층학습 내용입니다.\n",
            "%s 은(는) 심층학습 내용입니다.\n",
            "%s 은(는) 심층학습 내용입니다.\n"
          ]
        }
      ]
    },
    {
      "cell_type": "code",
      "source": [
        "for(i,con) in enumerate(contents):\n",
        "    print (\"[%d/%d]: %s\" %(i, len(contents), con))"
      ],
      "metadata": {
        "colab": {
          "base_uri": "https://localhost:8080/"
        },
        "id": "jR39WoamwxO2",
        "outputId": "7dc543bc-5b24-4fcd-ec83-aceae1508bd6"
      },
      "execution_count": 6,
      "outputs": [
        {
          "output_type": "stream",
          "name": "stdout",
          "text": [
            "[0/10]: Regression\n",
            "[1/10]: Classification\n",
            "[2/10]: SVM\n",
            "[3/10]: Clustering\n",
            "[4/10]: Demension reduction\n",
            "[5/10]: NN\n",
            "[6/10]: CNN\n",
            "[7/10]: AE\n",
            "[8/10]: GAN\n",
            "[9/10]: RNN\n"
          ]
        }
      ]
    },
    {
      "cell_type": "code",
      "source": [
        "def sum(a,b):\n",
        "    return a+b\n",
        "\n",
        "x = 10.0\n",
        "y = 20.0\n",
        "print(\"%.1f + %.1f = %.1f\" %(x,y, sum(x,y)))"
      ],
      "metadata": {
        "colab": {
          "base_uri": "https://localhost:8080/"
        },
        "id": "TjVHSSpdxITt",
        "outputId": "d1c6ad35-5a7e-47f3-d6d0-f4b7d75a437d"
      },
      "execution_count": 7,
      "outputs": [
        {
          "output_type": "stream",
          "name": "stdout",
          "text": [
            "10.0 + 20.0 = 30.0\n"
          ]
        }
      ]
    },
    {
      "cell_type": "code",
      "source": [
        "a = []\n",
        "b = [1,2,3]\n",
        "c = [\"Hello\", \",\",\"World\"]\n",
        "d = [1,2,3,\"x\", \"y\", \"z\"]\n",
        "x = []\n",
        "print (x)\n",
        "\n",
        "x.append('a')\n",
        "print(x)\n",
        "\n",
        "x.append(123)\n",
        "print(x)\n",
        "\n",
        "x.append([\"a\", \"b\"])\n",
        "print(x)"
      ],
      "metadata": {
        "colab": {
          "base_uri": "https://localhost:8080/"
        },
        "id": "Xa-xM1hIxX0c",
        "outputId": "dbb745c2-5091-4d24-d1ba-19f203d15179"
      },
      "execution_count": 12,
      "outputs": [
        {
          "output_type": "stream",
          "name": "stdout",
          "text": [
            "[]\n",
            "['a']\n",
            "['a', 123]\n",
            "['a', 123, ['a', 'b']]\n"
          ]
        }
      ]
    },
    {
      "cell_type": "code",
      "source": [
        "dic = dict()\n",
        "dic['name'] =  \"wonkyung\"\n",
        "dic[\"town\"] = \"Namyangju city\"\n",
        "dic[\"job\"] = \"Data Scientist\"\n",
        "print(dic)"
      ],
      "metadata": {
        "colab": {
          "base_uri": "https://localhost:8080/"
        },
        "id": "I8cdgDrJyHoU",
        "outputId": "b2973917-4d75-4c42-f3db-ac67f7267c43"
      },
      "execution_count": 14,
      "outputs": [
        {
          "output_type": "stream",
          "name": "stdout",
          "text": [
            "{'name': 'wonkyung', 'town': 'Namyangju city', 'job': 'Data Scientist'}\n"
          ]
        }
      ]
    },
    {
      "cell_type": "code",
      "source": [
        "class student:\n",
        "    #생성자\n",
        "    def __init__(self,name):\n",
        "        self.name = name\n",
        "    #메써드\n",
        "    def study(self, hard=False):\n",
        "        if hard:\n",
        "            print(\"%s 학생은 열심히 공부합니다.\" %self.name)\n",
        "        else:\n",
        "            print(\"%s 학생은 공부합니다\" %self.name)\n",
        "s = student('Wonkyung')\n",
        "s.study()\n",
        "s.study(hard=True)"
      ],
      "metadata": {
        "colab": {
          "base_uri": "https://localhost:8080/"
        },
        "id": "csJopIF3ycWW",
        "outputId": "35c4af5d-b521-4017-e609-be348f759efc"
      },
      "execution_count": 17,
      "outputs": [
        {
          "output_type": "stream",
          "name": "stdout",
          "text": [
            "Wonkyung 학생은 공부합니다\n",
            "Wonkyung 학생은 열심히 공부합니다.\n"
          ]
        }
      ]
    },
    {
      "cell_type": "code",
      "source": [
        "import numpy as np"
      ],
      "metadata": {
        "id": "-pj5E3DpzFj8"
      },
      "execution_count": 25,
      "outputs": []
    },
    {
      "cell_type": "code",
      "source": [
        "def print_val(x):\n",
        "    print (\"Type\", type(x))\n",
        "    print (\"Shape\", x.shape)\n",
        "    print (\"값:\\n\", x)\n",
        "    print (\"\")"
      ],
      "metadata": {
        "id": "20srvAXQzKjL"
      },
      "execution_count": 24,
      "outputs": []
    },
    {
      "cell_type": "code",
      "source": [
        "##rank 1 np array##\n",
        "x = np.array([1,2,3])\n",
        "print_val(x)\n",
        "\n",
        "x[0] = 5\n",
        "print_val(x)"
      ],
      "metadata": {
        "colab": {
          "base_uri": "https://localhost:8080/"
        },
        "id": "MT-UNba2znSs",
        "outputId": "84b8240a-003f-4cd1-be63-e26a62be4b9f"
      },
      "execution_count": 27,
      "outputs": [
        {
          "output_type": "stream",
          "name": "stdout",
          "text": [
            "Type <class 'numpy.ndarray'>\n",
            "Shape (3,)\n",
            "값:\n",
            " [1 2 3]\n",
            "\n",
            "Type <class 'numpy.ndarray'>\n",
            "Shape (3,)\n",
            "값:\n",
            " [5 2 3]\n",
            "\n"
          ]
        }
      ]
    },
    {
      "cell_type": "code",
      "source": [
        "##rank 2 np array##\n",
        "y = np.array([[1,2,3], [4,5,6]])\n",
        "print_val(y)\n",
        "\n",
        "##rank 2 zeros##\n",
        "a = np.array((2,2))\n",
        "print_val(a)\n",
        "\n",
        "##rank 2 ones##\n",
        "a = np.ones((3,2))\n",
        "print_val(a)\n",
        "\n",
        "##rank 2 단위 행렬(identity matrix)##\n",
        "a = np.eye(3,3)\n",
        "print_val(a)"
      ],
      "metadata": {
        "colab": {
          "base_uri": "https://localhost:8080/"
        },
        "id": "379bajk30Agj",
        "outputId": "717246ac-63f4-45bf-af35-d37671ca2234"
      },
      "execution_count": 32,
      "outputs": [
        {
          "output_type": "stream",
          "name": "stdout",
          "text": [
            "Type <class 'numpy.ndarray'>\n",
            "Shape (2, 3)\n",
            "값:\n",
            " [[1 2 3]\n",
            " [4 5 6]]\n",
            "\n",
            "Type <class 'numpy.ndarray'>\n",
            "Shape (2,)\n",
            "값:\n",
            " [2 2]\n",
            "\n",
            "Type <class 'numpy.ndarray'>\n",
            "Shape (3, 2)\n",
            "값:\n",
            " [[1. 1.]\n",
            " [1. 1.]\n",
            " [1. 1.]]\n",
            "\n",
            "Type <class 'numpy.ndarray'>\n",
            "Shape (3, 3)\n",
            "값:\n",
            " [[1. 0. 0.]\n",
            " [0. 1. 0.]\n",
            " [0. 0. 1.]]\n",
            "\n"
          ]
        }
      ]
    },
    {
      "cell_type": "code",
      "source": [
        "## random matrix(uniform:0~1) ##\n",
        "a = np.random.random((4,4))\n",
        "print_val(a)\n",
        "\n",
        "## random matrix(Gaussian: avg.0) ##\n",
        "a = np.random.randn(4,4)\n",
        "print_val(a)"
      ],
      "metadata": {
        "colab": {
          "base_uri": "https://localhost:8080/"
        },
        "id": "sFG-U09M09iD",
        "outputId": "ad7cc3ba-f618-4e6f-e438-c09910391cdb"
      },
      "execution_count": 34,
      "outputs": [
        {
          "output_type": "stream",
          "name": "stdout",
          "text": [
            "Type <class 'numpy.ndarray'>\n",
            "Shape (4, 4)\n",
            "값:\n",
            " [[0.43976044 0.17126941 0.45179522 0.2208116 ]\n",
            " [0.81512521 0.95051012 0.97894553 0.67306306]\n",
            " [0.4948312  0.68803707 0.75819888 0.50897627]\n",
            " [0.14785114 0.42594816 0.60094885 0.6790342 ]]\n",
            "\n",
            "Type <class 'numpy.ndarray'>\n",
            "Shape (4, 4)\n",
            "값:\n",
            " [[ 0.99353011  0.23198282  1.18821588  1.04811063]\n",
            " [-0.15672412  0.1286647   0.23914098  0.73566326]\n",
            " [-0.7758142  -0.2253477   0.40664206 -0.93290953]\n",
            " [ 1.56097669 -1.43690109  1.86187653  0.61132906]]\n",
            "\n"
          ]
        }
      ]
    },
    {
      "cell_type": "code",
      "source": [
        "## np array indenxing ## \n",
        "a = np.array([[1,2,3,4], [5,6,7,8], [9,10,11,12]])\n",
        "print_val(a)\n",
        "\n",
        "b = a[:2, 1:3]\n",
        "print_val(b)\n",
        "\n",
        "## 행렬의 n번째 행 얻기 ##\n",
        "row1 = a[1, :] # 1번째 행\n",
        "print_val(row1)"
      ],
      "metadata": {
        "colab": {
          "base_uri": "https://localhost:8080/"
        },
        "id": "HhO5Yf-Y1XVK",
        "outputId": "f6d0c95c-ca35-4723-87e5-2d57efa389fa"
      },
      "execution_count": 38,
      "outputs": [
        {
          "output_type": "stream",
          "name": "stdout",
          "text": [
            "Type <class 'numpy.ndarray'>\n",
            "Shape (3, 4)\n",
            "값:\n",
            " [[ 1  2  3  4]\n",
            " [ 5  6  7  8]\n",
            " [ 9 10 11 12]]\n",
            "\n",
            "Type <class 'numpy.ndarray'>\n",
            "Shape (2, 2)\n",
            "값:\n",
            " [[2 3]\n",
            " [6 7]]\n",
            "\n",
            "Type <class 'numpy.ndarray'>\n",
            "Shape (4,)\n",
            "값:\n",
            " [5 6 7 8]\n",
            "\n"
          ]
        }
      ]
    },
    {
      "cell_type": "code",
      "source": [
        "m1 = np.array([[1,2], [3,4]], dtype = np.float64)\n",
        "m2 = np.array([[5,6], [7,8]], dtype = np.float64)\n",
        "print_val(m1 + m2)\n",
        "print_val(np.add(m1,m2))"
      ],
      "metadata": {
        "colab": {
          "base_uri": "https://localhost:8080/"
        },
        "id": "JQxivs8V45BC",
        "outputId": "447636f9-8175-4e52-bd52-c6673b4d0c15"
      },
      "execution_count": 39,
      "outputs": [
        {
          "output_type": "stream",
          "name": "stdout",
          "text": [
            "Type <class 'numpy.ndarray'>\n",
            "Shape (2, 2)\n",
            "값:\n",
            " [[ 6.  8.]\n",
            " [10. 12.]]\n",
            "\n",
            "Type <class 'numpy.ndarray'>\n",
            "Shape (2, 2)\n",
            "값:\n",
            " [[ 6.  8.]\n",
            " [10. 12.]]\n",
            "\n"
          ]
        }
      ]
    },
    {
      "cell_type": "code",
      "source": [
        "## elementwise diiference ##\n",
        "print_val(m1 - m2)\n",
        "print_val(np.subtract(m1, m2))"
      ],
      "metadata": {
        "colab": {
          "base_uri": "https://localhost:8080/"
        },
        "id": "md83hIsN5wSx",
        "outputId": "21e67357-3d60-4d3b-ade3-b1b49ed9a652"
      },
      "execution_count": 40,
      "outputs": [
        {
          "output_type": "stream",
          "name": "stdout",
          "text": [
            "Type <class 'numpy.ndarray'>\n",
            "Shape (2, 2)\n",
            "값:\n",
            " [[-4. -4.]\n",
            " [-4. -4.]]\n",
            "\n",
            "Type <class 'numpy.ndarray'>\n",
            "Shape (2, 2)\n",
            "값:\n",
            " [[-4. -4.]\n",
            " [-4. -4.]]\n",
            "\n"
          ]
        }
      ]
    },
    {
      "cell_type": "code",
      "source": [
        "## elementwise product ##\n",
        "print_val(m1 * m2)\n",
        "print_val(np.multiply(m1, m2))"
      ],
      "metadata": {
        "colab": {
          "base_uri": "https://localhost:8080/"
        },
        "id": "6itxE3fj5-yZ",
        "outputId": "bb5339a9-9b8d-4cec-bcec-3ddc39b54736"
      },
      "execution_count": 41,
      "outputs": [
        {
          "output_type": "stream",
          "name": "stdout",
          "text": [
            "Type <class 'numpy.ndarray'>\n",
            "Shape (2, 2)\n",
            "값:\n",
            " [[ 5. 12.]\n",
            " [21. 32.]]\n",
            "\n",
            "Type <class 'numpy.ndarray'>\n",
            "Shape (2, 2)\n",
            "값:\n",
            " [[ 5. 12.]\n",
            " [21. 32.]]\n",
            "\n"
          ]
        }
      ]
    },
    {
      "cell_type": "code",
      "source": [
        "## elementwise division ##\n",
        "print_val(m1 / m2)\n",
        "print_val(np.divide(m1,m2))"
      ],
      "metadata": {
        "colab": {
          "base_uri": "https://localhost:8080/"
        },
        "id": "SdHwxLRe6KPR",
        "outputId": "5760eb05-7277-48ec-eb7b-f504896328f3"
      },
      "execution_count": 42,
      "outputs": [
        {
          "output_type": "stream",
          "name": "stdout",
          "text": [
            "Type <class 'numpy.ndarray'>\n",
            "Shape (2, 2)\n",
            "값:\n",
            " [[0.2        0.33333333]\n",
            " [0.42857143 0.5       ]]\n",
            "\n",
            "Type <class 'numpy.ndarray'>\n",
            "Shape (2, 2)\n",
            "값:\n",
            " [[0.2        0.33333333]\n",
            " [0.42857143 0.5       ]]\n",
            "\n"
          ]
        }
      ]
    },
    {
      "cell_type": "code",
      "source": [
        "## elementwise square root ##\n",
        "print_val(np.sqrt(m1))"
      ],
      "metadata": {
        "colab": {
          "base_uri": "https://localhost:8080/"
        },
        "id": "JNv9Syus6TPY",
        "outputId": "ffc9312b-940d-43be-9ad6-40bec9c25fd5"
      },
      "execution_count": 43,
      "outputs": [
        {
          "output_type": "stream",
          "name": "stdout",
          "text": [
            "Type <class 'numpy.ndarray'>\n",
            "Shape (2, 2)\n",
            "값:\n",
            " [[1.         1.41421356]\n",
            " [1.73205081 2.        ]]\n",
            "\n"
          ]
        }
      ]
    },
    {
      "cell_type": "code",
      "source": [
        "m1 = np.array([[1,2], [3,4]])  # (2,2)\n",
        "m2 = np.array([[5,6], [7,8]])  # (2,2)\n",
        "v1 = np.array([9,10])  # (2,1) #[[9,10]] (1,2)\n",
        "v2 = np.array([11,12])  # (2,1)\n",
        "\n",
        "print_val(m1)\n",
        "print_val(m2)\n",
        "print_val(v1)\n",
        "print_val(v2)"
      ],
      "metadata": {
        "colab": {
          "base_uri": "https://localhost:8080/"
        },
        "id": "OufPCxxs6bBH",
        "outputId": "0fea1b87-8d87-4c5d-a5b5-8d41f5edaa54"
      },
      "execution_count": 45,
      "outputs": [
        {
          "output_type": "stream",
          "name": "stdout",
          "text": [
            "Type <class 'numpy.ndarray'>\n",
            "Shape (2, 2)\n",
            "값:\n",
            " [[1 2]\n",
            " [3 4]]\n",
            "\n",
            "Type <class 'numpy.ndarray'>\n",
            "Shape (2, 2)\n",
            "값:\n",
            " [[5 6]\n",
            " [7 8]]\n",
            "\n",
            "Type <class 'numpy.ndarray'>\n",
            "Shape (2,)\n",
            "값:\n",
            " [ 9 10]\n",
            "\n",
            "Type <class 'numpy.ndarray'>\n",
            "Shape (2,)\n",
            "값:\n",
            " [11 12]\n",
            "\n"
          ]
        }
      ]
    },
    {
      "cell_type": "code",
      "source": [
        "print_val(v1.dot(v2))\n",
        "print_val(np.dot(v1,v2))"
      ],
      "metadata": {
        "colab": {
          "base_uri": "https://localhost:8080/"
        },
        "id": "519NKbMX7A1a",
        "outputId": "afa45d74-22a5-4a6f-e1ab-d128e11486cf"
      },
      "execution_count": 46,
      "outputs": [
        {
          "output_type": "stream",
          "name": "stdout",
          "text": [
            "Type <class 'numpy.int64'>\n",
            "Shape ()\n",
            "값:\n",
            " 219\n",
            "\n",
            "Type <class 'numpy.int64'>\n",
            "Shape ()\n",
            "값:\n",
            " 219\n",
            "\n"
          ]
        }
      ]
    },
    {
      "cell_type": "code",
      "source": [
        "print_val(m1.dot(v1))\n",
        "print_val(np.dot(m1,v1))"
      ],
      "metadata": {
        "colab": {
          "base_uri": "https://localhost:8080/"
        },
        "id": "yDvH0fvv7K-Q",
        "outputId": "785fa99c-5d82-4f58-bc23-737dde022f1c"
      },
      "execution_count": 47,
      "outputs": [
        {
          "output_type": "stream",
          "name": "stdout",
          "text": [
            "Type <class 'numpy.ndarray'>\n",
            "Shape (2,)\n",
            "값:\n",
            " [29 67]\n",
            "\n",
            "Type <class 'numpy.ndarray'>\n",
            "Shape (2,)\n",
            "값:\n",
            " [29 67]\n",
            "\n"
          ]
        }
      ]
    },
    {
      "cell_type": "code",
      "source": [
        "print_val(m1.dot(m2))\n",
        "print_val(np.dot(m1,m2))"
      ],
      "metadata": {
        "colab": {
          "base_uri": "https://localhost:8080/"
        },
        "id": "9NL7X7Dh7b0f",
        "outputId": "d7cdadef-9155-4532-c2cb-c6b27dc5643a"
      },
      "execution_count": 48,
      "outputs": [
        {
          "output_type": "stream",
          "name": "stdout",
          "text": [
            "Type <class 'numpy.ndarray'>\n",
            "Shape (2, 2)\n",
            "값:\n",
            " [[19 22]\n",
            " [43 50]]\n",
            "\n",
            "Type <class 'numpy.ndarray'>\n",
            "Shape (2, 2)\n",
            "값:\n",
            " [[19 22]\n",
            " [43 50]]\n",
            "\n"
          ]
        }
      ]
    },
    {
      "cell_type": "code",
      "source": [
        "print_val(m1)\n",
        "print_val(m1.T)"
      ],
      "metadata": {
        "colab": {
          "base_uri": "https://localhost:8080/"
        },
        "id": "CwU1KROd7k6s",
        "outputId": "9bf32436-c880-45c8-dca0-66138eb55f2f"
      },
      "execution_count": 49,
      "outputs": [
        {
          "output_type": "stream",
          "name": "stdout",
          "text": [
            "Type <class 'numpy.ndarray'>\n",
            "Shape (2, 2)\n",
            "값:\n",
            " [[1 2]\n",
            " [3 4]]\n",
            "\n",
            "Type <class 'numpy.ndarray'>\n",
            "Shape (2, 2)\n",
            "값:\n",
            " [[1 3]\n",
            " [2 4]]\n",
            "\n"
          ]
        }
      ]
    },
    {
      "cell_type": "code",
      "source": [
        "print_val(np.sum(m1))\n",
        "print_val(np.sum(m1, axis=0))\n",
        "print_val(np.sum(m1, axis=1))"
      ],
      "metadata": {
        "colab": {
          "base_uri": "https://localhost:8080/"
        },
        "id": "zKrnU2ZC7s6v",
        "outputId": "e57bae02-5c06-421a-e69e-20519b9db7ea"
      },
      "execution_count": 50,
      "outputs": [
        {
          "output_type": "stream",
          "name": "stdout",
          "text": [
            "Type <class 'numpy.int64'>\n",
            "Shape ()\n",
            "값:\n",
            " 10\n",
            "\n",
            "Type <class 'numpy.ndarray'>\n",
            "Shape (2,)\n",
            "값:\n",
            " [4 6]\n",
            "\n",
            "Type <class 'numpy.ndarray'>\n",
            "Shape (2,)\n",
            "값:\n",
            " [3 7]\n",
            "\n"
          ]
        }
      ]
    },
    {
      "cell_type": "code",
      "source": [
        "m1 = np.array([[1,2,3], [4,5,6]])\n",
        "print(m1)\n",
        "print(m1.shape)\n",
        "print(np.sum(m1))\n",
        "print(np.sum(m1, axis = 0))\n",
        "print(np.sum(m1, axis = 1))"
      ],
      "metadata": {
        "colab": {
          "base_uri": "https://localhost:8080/"
        },
        "id": "fCCqQ5V-8EQ5",
        "outputId": "7a31de74-e167-4062-b03f-c22db92252e2"
      },
      "execution_count": 52,
      "outputs": [
        {
          "output_type": "stream",
          "name": "stdout",
          "text": [
            "[[1 2 3]\n",
            " [4 5 6]]\n",
            "(2, 3)\n",
            "21\n",
            "[5 7 9]\n",
            "[ 6 15]\n"
          ]
        }
      ]
    },
    {
      "cell_type": "code",
      "source": [
        "m1 = np.array([[1,2,3],\n",
        "               [4,5,6],\n",
        "               [7,8,9],\n",
        "               [10,11,12]])\n",
        "m2 = np.zeros_like(m1)\n",
        "print_val(m1)\n",
        "print_val(m2)"
      ],
      "metadata": {
        "colab": {
          "base_uri": "https://localhost:8080/"
        },
        "id": "yKw2knsb8es3",
        "outputId": "a79dab32-9612-40e2-9c52-b864c3ac0223"
      },
      "execution_count": 53,
      "outputs": [
        {
          "output_type": "stream",
          "name": "stdout",
          "text": [
            "Type <class 'numpy.ndarray'>\n",
            "Shape (4, 3)\n",
            "값:\n",
            " [[ 1  2  3]\n",
            " [ 4  5  6]\n",
            " [ 7  8  9]\n",
            " [10 11 12]]\n",
            "\n",
            "Type <class 'numpy.ndarray'>\n",
            "Shape (4, 3)\n",
            "값:\n",
            " [[0 0 0]\n",
            " [0 0 0]\n",
            " [0 0 0]\n",
            " [0 0 0]]\n",
            "\n"
          ]
        }
      ]
    },
    {
      "cell_type": "code",
      "source": [
        "import matplotlib.pyplot as plt\n",
        "%matplotlib inline\n",
        "\n",
        "x = np.arange(0, 10, 0.1)\n",
        "y = np.sin(x)\n",
        "\n",
        "plt.plot(x,y)"
      ],
      "metadata": {
        "colab": {
          "base_uri": "https://localhost:8080/",
          "height": 283
        },
        "id": "7_c3uZ1e8wvW",
        "outputId": "c05b32b1-4755-40a9-f80a-a36ffc471d0d"
      },
      "execution_count": 55,
      "outputs": [
        {
          "output_type": "execute_result",
          "data": {
            "text/plain": [
              "[<matplotlib.lines.Line2D at 0x7fbf6b8d98d0>]"
            ]
          },
          "metadata": {},
          "execution_count": 55
        },
        {
          "output_type": "display_data",
          "data": {
            "text/plain": [
              "<Figure size 432x288 with 1 Axes>"
            ],
            "image/png": "[encoded data removed]"
          },
          "metadata": {
            "needs_background": "light"
          }
        }
      ]
    },
    {
      "cell_type": "code",
      "source": [
        "y_sin = np.sin(x)\n",
        "y_cos = np.cos(x)\n",
        "\n",
        "plt.plot(x, y_sin)\n",
        "plt.plot(x, y_cos)\n",
        "plt.xlabel('x axis label')\n",
        "plt.ylabel('y_axis label')\n",
        "plt.title('sin and cos')\n",
        "plt.legend(['sin', 'cos'])\n",
        "\n",
        "plt.show"
      ],
      "metadata": {
        "colab": {
          "base_uri": "https://localhost:8080/",
          "height": 313
        },
        "id": "3mcqqrzm9Amv",
        "outputId": "d5ffa16d-e38c-491b-e759-c5f4504a8197"
      },
      "execution_count": 58,
      "outputs": [
        {
          "output_type": "execute_result",
          "data": {
            "text/plain": [
              "<function matplotlib.pyplot.show>"
            ]
          },
          "metadata": {},
          "execution_count": 58
        },
        {
          "output_type": "display_data",
          "data": {
            "text/plain": [
              "<Figure size 432x288 with 1 Axes>"
            ],
            "image/png": "[encoded data removed]"
          },
          "metadata": {
            "needs_background": "light"
          }
        }
      ]
    },
    {
      "cell_type": "code",
      "source": [
        "plt.subplot(2, 1, 1)\n",
        "plt.plot(x, y_sin)\n",
        "plt.title('sin')\n",
        "\n",
        "plt.subplot(2,1,2)\n",
        "plt.plot(x, y_cos)\n",
        "plt.title('cos')\n",
        "\n",
        "plt.show"
      ],
      "metadata": {
        "colab": {
          "base_uri": "https://localhost:8080/",
          "height": 299
        },
        "id": "fqeuSiub9don",
        "outputId": "86d1239a-3674-4945-d407-abfaf503ba6c"
      },
      "execution_count": 59,
      "outputs": [
        {
          "output_type": "execute_result",
          "data": {
            "text/plain": [
              "<function matplotlib.pyplot.show>"
            ]
          },
          "metadata": {},
          "execution_count": 59
        },
        {
          "output_type": "display_data",
          "data": {
            "text/plain": [
              "<Figure size 432x288 with 2 Axes>"
            ],
            "image/png": "[encoded data removed]"
          },
          "metadata": {
            "needs_background": "light"
          }
        }
      ]
    },
    {
      "cell_type": "code",
      "source": [
        "import torch\n",
        "\n",
        "x = torch.rand(2,3,2)\n",
        "print_val(x)\n",
        "\n",
        "x = torch.randn(2,3)\n",
        "print_val(x)"
      ],
      "metadata": {
        "colab": {
          "base_uri": "https://localhost:8080/"
        },
        "id": "D2dqMIEC9uCW",
        "outputId": "897c22da-4079-4bb5-a56a-783699f74b11"
      },
      "execution_count": 60,
      "outputs": [
        {
          "output_type": "stream",
          "name": "stdout",
          "text": [
            "Type <class 'torch.Tensor'>\n",
            "Shape torch.Size([2, 3, 2])\n",
            "값:\n",
            " tensor([[[0.8942, 0.7365],\n",
            "         [0.7492, 0.0674],\n",
            "         [0.3717, 0.8892]],\n",
            "\n",
            "        [[0.6998, 0.4758],\n",
            "         [0.4414, 0.3255],\n",
            "         [0.5705, 0.3933]]])\n",
            "\n",
            "Type <class 'torch.Tensor'>\n",
            "Shape torch.Size([2, 3])\n",
            "값:\n",
            " tensor([[-0.8376, -1.0433, -0.1827],\n",
            "        [ 1.4492, -0.3397, -0.7573]])\n",
            "\n"
          ]
        }
      ]
    },
    {
      "cell_type": "code",
      "source": [
        "x = torch.randperm(4)\n",
        "print_val(x)"
      ],
      "metadata": {
        "colab": {
          "base_uri": "https://localhost:8080/"
        },
        "id": "cMceWF-b99K2",
        "outputId": "d3a00343-a5bd-4982-8e84-492fd48b6790"
      },
      "execution_count": 61,
      "outputs": [
        {
          "output_type": "stream",
          "name": "stdout",
          "text": [
            "Type <class 'torch.Tensor'>\n",
            "Shape torch.Size([4])\n",
            "값:\n",
            " tensor([2, 3, 1, 0])\n",
            "\n"
          ]
        }
      ]
    },
    {
      "cell_type": "code",
      "source": [
        "x = torch.arange(0,3,step=0.5)\n",
        "print_val(x)"
      ],
      "metadata": {
        "colab": {
          "base_uri": "https://localhost:8080/"
        },
        "id": "MyRA8EJ4-CR-",
        "outputId": "10a96576-aaae-44c3-bcc9-2f10b4608998"
      },
      "execution_count": 62,
      "outputs": [
        {
          "output_type": "stream",
          "name": "stdout",
          "text": [
            "Type <class 'torch.Tensor'>\n",
            "Shape torch.Size([6])\n",
            "값:\n",
            " tensor([0.0000, 0.5000, 1.0000, 1.5000, 2.0000, 2.5000])\n",
            "\n"
          ]
        }
      ]
    },
    {
      "cell_type": "code",
      "source": [
        "print_val(torch.ones(3,4))\n",
        "print_val(torch.zeros(3,4))"
      ],
      "metadata": {
        "colab": {
          "base_uri": "https://localhost:8080/"
        },
        "id": "ObjELV9--MqW",
        "outputId": "46814d28-f1c2-45fb-db8d-83c79e072919"
      },
      "execution_count": 63,
      "outputs": [
        {
          "output_type": "stream",
          "name": "stdout",
          "text": [
            "Type <class 'torch.Tensor'>\n",
            "Shape torch.Size([3, 4])\n",
            "값:\n",
            " tensor([[1., 1., 1., 1.],\n",
            "        [1., 1., 1., 1.],\n",
            "        [1., 1., 1., 1.]])\n",
            "\n",
            "Type <class 'torch.Tensor'>\n",
            "Shape torch.Size([3, 4])\n",
            "값:\n",
            " tensor([[0., 0., 0., 0.],\n",
            "        [0., 0., 0., 0.],\n",
            "        [0., 0., 0., 0.]])\n",
            "\n"
          ]
        }
      ]
    },
    {
      "cell_type": "code",
      "source": [
        "print_val(torch.Tensor(2,4))"
      ],
      "metadata": {
        "colab": {
          "base_uri": "https://localhost:8080/"
        },
        "id": "BUurtlq_-VMa",
        "outputId": "cd864204-f5b1-461d-bd10-a5e4d72a5a6f"
      },
      "execution_count": 64,
      "outputs": [
        {
          "output_type": "stream",
          "name": "stdout",
          "text": [
            "Type <class 'torch.Tensor'>\n",
            "Shape torch.Size([2, 4])\n",
            "값:\n",
            " tensor([[6.3090e-35, 0.0000e+00, 3.7835e-44, 0.0000e+00],\n",
            "        [       nan, 6.4460e-44, 1.3733e-14, 6.4069e+02]])\n",
            "\n"
          ]
        }
      ]
    },
    {
      "cell_type": "code",
      "source": [
        "print_val(torch.Tensor([2,3]))\n",
        "print_val(torch.Tensor([[2,3], [3,4]]))"
      ],
      "metadata": {
        "colab": {
          "base_uri": "https://localhost:8080/"
        },
        "id": "o0KXEi-4-v2H",
        "outputId": "4fdf1401-68ca-4578-a4d0-6d7a19532e11"
      },
      "execution_count": 65,
      "outputs": [
        {
          "output_type": "stream",
          "name": "stdout",
          "text": [
            "Type <class 'torch.Tensor'>\n",
            "Shape torch.Size([2])\n",
            "값:\n",
            " tensor([2., 3.])\n",
            "\n",
            "Type <class 'torch.Tensor'>\n",
            "Shape torch.Size([2, 2])\n",
            "값:\n",
            " tensor([[2., 3.],\n",
            "        [3., 4.]])\n",
            "\n"
          ]
        }
      ]
    },
    {
      "cell_type": "code",
      "source": [
        "x = torch.FloatTensor(2,3)\n",
        "print_val(x)\n",
        "\n",
        "x = x.type_as(torch.IntTensor())\n",
        "print_val(x)"
      ],
      "metadata": {
        "colab": {
          "base_uri": "https://localhost:8080/"
        },
        "id": "yNQRt2NJ-8we",
        "outputId": "16e631f4-e4a2-44d9-9e49-99c529d46913"
      },
      "execution_count": 66,
      "outputs": [
        {
          "output_type": "stream",
          "name": "stdout",
          "text": [
            "Type <class 'torch.Tensor'>\n",
            "Shape torch.Size([2, 3])\n",
            "값:\n",
            " tensor([[6.3090e-35, 0.0000e+00, 7.0976e+22],\n",
            "        [1.0903e+27, 7.1220e+28, 6.9397e+22]])\n",
            "\n",
            "Type <class 'torch.Tensor'>\n",
            "Shape torch.Size([2, 3])\n",
            "값:\n",
            " tensor([[          0,           0, -2147483648],\n",
            "        [-2147483648, -2147483648, -2147483648]], dtype=torch.int32)\n",
            "\n"
          ]
        }
      ]
    },
    {
      "cell_type": "code",
      "source": [
        "torch.FloatTensor(3,4,5).size()"
      ],
      "metadata": {
        "colab": {
          "base_uri": "https://localhost:8080/"
        },
        "id": "SihRB5ry_TPX",
        "outputId": "e42f6f75-aef3-4633-fdf0-76dc28e8523e"
      },
      "execution_count": 67,
      "outputs": [
        {
          "output_type": "execute_result",
          "data": {
            "text/plain": [
              "torch.Size([3, 4, 5])"
            ]
          },
          "metadata": {},
          "execution_count": 67
        }
      ]
    },
    {
      "cell_type": "code",
      "source": [
        "import numpy as np\n",
        "np_x = np.ndarray((2,3), dtype = int)\n",
        "print_val(np_x)\n",
        "\n",
        "x = torch.from_numpy(np_x)\n",
        "print_val(x)"
      ],
      "metadata": {
        "colab": {
          "base_uri": "https://localhost:8080/"
        },
        "id": "rO0pBxAP_X9v",
        "outputId": "223d469b-05d1-473b-ad17-394ffbaf96de"
      },
      "execution_count": 69,
      "outputs": [
        {
          "output_type": "stream",
          "name": "stdout",
          "text": [
            "Type <class 'numpy.ndarray'>\n",
            "Shape (2, 3)\n",
            "값:\n",
            " [[                  0 4611686018427387904 4616189618054758400]\n",
            " [4618441417868443648 4620693217682128896 4621819117588971520]]\n",
            "\n",
            "Type <class 'torch.Tensor'>\n",
            "Shape torch.Size([2, 3])\n",
            "값:\n",
            " tensor([[                  0, 4611686018427387904, 4616189618054758400],\n",
            "        [4618441417868443648, 4620693217682128896, 4621819117588971520]])\n",
            "\n"
          ]
        }
      ]
    },
    {
      "cell_type": "code",
      "source": [
        "import torchvision.datasets as dset\n",
        "import torchvision.transforms as transforms\n",
        "from torch.utils.data import DataLoader\n",
        "from torch.autograd import Variable\n",
        "import matplotlib.pyplot as plt\n",
        "%matplotlib inline\n",
        "\n",
        "mnist_train  = dset.MNIST(\"\", train = True, transform = transforms.ToTensor(),\n",
        "                          target_transform=None, download=True)\n",
        "image,label = mnist_train. __getitem__(0)\n",
        "print(image.size(), label)\n",
        "\n",
        "image,label = mnist_train[1]\n",
        "print(image.size(), label)\n",
        "\n",
        "print(mnist_train. __len__())\n",
        "print(\"mnist_train 길이:\", len(mnist_train))\n",
        "\n",
        "print(mnist_train[0][1])\n",
        "print(mnist_train[0][0].size())\n",
        "\n",
        "for i in range(3):\n",
        "    img = mnist_train[i][0].numpy()\n",
        "    #print(\"label:\", mnist_train[i][1])\n",
        "    plt.title(\"label: %d\" %mnist_train[i][1])\n",
        "    plt.imshow(img[0], cmap = 'gray')\n",
        "    plt.show"
      ],
      "metadata": {
        "colab": {
          "base_uri": "https://localhost:8080/",
          "height": 813,
          "referenced_widgets": [
            "2541e3c4f41042afaa19285b3113483f",
            "00bf15565a5847e7826d4c981ee0f31b",
            "49edfc3eb65343de824d3b5176f6f978",
            "4927f40b208a45e38ae53b271bf7fc82",
            "4d62a482fc0547c0be3a87aa135e5d4e",
            "681f1ff7fe8a4abf9ad9ebdfc3c4df3c",
            "4db19753d415401aa8b8dab29e315fad",
            "ff0d3f4a50284dee944d399f6aa9767b",
            "a5c9baa096974bb6bee7f94d9089c369",
            "71ee685f2f084b7a9e8037428793637b",
            "3de3c2cd94844275912e3a847a3289dc",
            "f77b70147c5c484daa5c1dd4ba9360ce",
            "1559c23812094601b8660a5b293f6725",
            "768557dc31854f058eb717937fc8716c",
            "df11684805eb461f83a502629663fd73",
            "3fe85133cf7a4c378faf1594630373bd",
            "1293a2337f09451eb1e57369789d7532",
            "e0bef488ead54c329d7720feb216325e",
            "f52791b8e8364e2a9f80bf85441566da",
            "8293ee9c9dd4493eaa7df710856c1cc3",
            "78891762eae04ebf967130656ff0c852",
            "1b24235f8c2d44a08395862ab2b35b45",
            "d7af4540581b409fad8460d4e60839ea",
            "75c56ed01bbc436a82c23d27b952d78f",
            "f9169d1a783047709e47a1d44ce9164c",
            "238e3ffaf0714f01bddb307ab74be9bb",
            "c64bfd3bb3fd4f7cb3e9ba9309aab7cd",
            "c5d399cca7d44193850d0ee0b64267c7",
            "125229d326bb42898a78d2c9b79473ef",
            "943ba356fe2740778ea540cf6d0b436b",
            "7c5ba0cf34e64ea286ab365f3684c10c",
            "e09c2dadb9fb4b2e8e36ab23ff919115",
            "1a16563ce68b4c0a8ea7635e4edd7002",
            "473c2a1017ab425f91d6e912489c9fd5",
            "d3f01469b753413fbc21b357a2b1c983",
            "823f8dd55e7f461482e0472330d613a1",
            "20c509c081f9477384758a3dc1bf21c8",
            "858ea1a618ad47599434b12a300e9edd",
            "895665f363c945f5a2e36cb360d91664",
            "429cdf7ca9f04fb9ab866016a1ae23b0",
            "2ad444dec9764b14855a17d7b549947c",
            "20ca152ea3e4454eba44183e248b3824",
            "219e2caed3564f4d94c62c7a6c1a5458",
            "f66d2fa296564f188c96d66df64fcda2"
          ]
        },
        "id": "_C53z9MZ_2qc",
        "outputId": "122130d5-b47d-49a7-e692-690bd81b5b6b"
      },
      "execution_count": 72,
      "outputs": [
        {
          "output_type": "stream",
          "name": "stdout",
          "text": [
            "Downloading http://yann.lecun.com/exdb/mnist/train-images-idx3-ubyte.gz\n",
            "Downloading http://yann.lecun.com/exdb/mnist/train-images-idx3-ubyte.gz to MNIST/raw/train-images-idx3-ubyte.gz\n"
          ]
        },
        {
          "output_type": "display_data",
          "data": {
            "text/plain": [
              "  0%|          | 0/9912422 [00:00<?, ?it/s]"
            ],
            "application/vnd.jupyter.widget-view+json": {
              "version_major": 2,
              "version_minor": 0,
              "model_id": "2541e3c4f41042afaa19285b3113483f"
            }
          },
          "metadata": {}
        },
        {
          "output_type": "stream",
          "name": "stdout",
          "text": [
            "Extracting MNIST/raw/train-images-idx3-ubyte.gz to MNIST/raw\n",
            "\n",
            "Downloading http://yann.lecun.com/exdb/mnist/train-labels-idx1-ubyte.gz\n",
            "Downloading http://yann.lecun.com/exdb/mnist/train-labels-idx1-ubyte.gz to MNIST/raw/train-labels-idx1-ubyte.gz\n"
          ]
        },
        {
          "output_type": "display_data",
          "data": {
            "text/plain": [
              "  0%|          | 0/28881 [00:00<?, ?it/s]"
            ],
            "application/vnd.jupyter.widget-view+json": {
              "version_major": 2,
              "version_minor": 0,
              "model_id": "f77b70147c5c484daa5c1dd4ba9360ce"
            }
          },
          "metadata": {}
        },
        {
          "output_type": "stream",
          "name": "stdout",
          "text": [
            "Extracting MNIST/raw/train-labels-idx1-ubyte.gz to MNIST/raw\n",
            "\n",
            "Downloading http://yann.lecun.com/exdb/mnist/t10k-images-idx3-ubyte.gz\n",
            "Downloading http://yann.lecun.com/exdb/mnist/t10k-images-idx3-ubyte.gz to MNIST/raw/t10k-images-idx3-ubyte.gz\n"
          ]
        },
        {
          "output_type": "display_data",
          "data": {
            "text/plain": [
              "  0%|          | 0/1648877 [00:00<?, ?it/s]"
            ],
            "application/vnd.jupyter.widget-view+json": {
              "version_major": 2,
              "version_minor": 0,
              "model_id": "d7af4540581b409fad8460d4e60839ea"
            }
          },
          "metadata": {}
        },
        {
          "output_type": "stream",
          "name": "stdout",
          "text": [
            "Extracting MNIST/raw/t10k-images-idx3-ubyte.gz to MNIST/raw\n",
            "\n",
            "Downloading http://yann.lecun.com/exdb/mnist/t10k-labels-idx1-ubyte.gz\n",
            "Downloading http://yann.lecun.com/exdb/mnist/t10k-labels-idx1-ubyte.gz to MNIST/raw/t10k-labels-idx1-ubyte.gz\n"
          ]
        },
        {
          "output_type": "display_data",
          "data": {
            "text/plain": [
              "  0%|          | 0/4542 [00:00<?, ?it/s]"
            ],
            "application/vnd.jupyter.widget-view+json": {
              "version_major": 2,
              "version_minor": 0,
              "model_id": "473c2a1017ab425f91d6e912489c9fd5"
            }
          },
          "metadata": {}
        },
        {
          "output_type": "stream",
          "name": "stdout",
          "text": [
            "Extracting MNIST/raw/t10k-labels-idx1-ubyte.gz to MNIST/raw\n",
            "\n",
            "torch.Size([1, 28, 28]) 5\n",
            "torch.Size([1, 28, 28]) 0\n",
            "60000\n",
            "mnist_train 길이: 60000\n",
            "5\n",
            "torch.Size([1, 28, 28])\n"
          ]
        },
        {
          "output_type": "display_data",
          "data": {
            "text/plain": [
              "<Figure size 432x288 with 1 Axes>"
            ],
            "image/png": "[encoded data removed]"
          },
          "metadata": {
            "needs_background": "light"
          }
        }
      ]
    },
    {
      "cell_type": "code",
      "source": [
        "mnist_train  = dset.MNIST(\"\", train = True, transform = transforms.ToTensor(),\n",
        "                          target_transform=None, download=True)\n",
        "mnist_test  = dset.MNIST(\"\", train = False, transform = transforms.ToTensor(),\n",
        "                          target_transform=None, download=True)\n",
        "print(\"mnist_train 길이:\", len(mnist_train))\n",
        "print(\"mnist_test 길이:\", len(mnist_test))\n",
        "\n",
        "image, label = mnist_train.__getitem__(0)\n",
        "print(\"image data 형태:\", image.size())\n",
        "print(\"label:\", label)\n",
        "\n",
        "img = image.numpy()\n",
        "plt.title(\"label: %d\" %label)\n",
        "plt.imshow(img[0], cmap='gray')\n",
        "plt.show()"
      ],
      "metadata": {
        "colab": {
          "base_uri": "https://localhost:8080/",
          "height": 354
        },
        "id": "DtGmSpr6Fxh7",
        "outputId": "fe74cfed-cd27-4e81-d568-4c7fdb87881e"
      },
      "execution_count": 74,
      "outputs": [
        {
          "output_type": "stream",
          "name": "stdout",
          "text": [
            "mnist_train 길이: 60000\n",
            "mnist_test 길이: 10000\n",
            "image data 형태: torch.Size([1, 28, 28])\n",
            "label: 5\n"
          ]
        },
        {
          "output_type": "display_data",
          "data": {
            "text/plain": [
              "<Figure size 432x288 with 1 Axes>"
            ],
            "image/png": "[encoded data removed]"
          },
          "metadata": {
            "needs_background": "light"
          }
        }
      ]
    },
    {
      "cell_type": "code",
      "source": [
        "batch_size = 16\n",
        "\n",
        "train_loader = torch.utils.data.DataLoader(list(mnist_train)[:batch_size*100], batch_size = batch_size,\n",
        "                                           shuffle = True, num_workers = 2,\n",
        "                                           drop_last = True)\n",
        "test_loader = torch.utils.data.DataLoader((mnist_test), batch_size = batch_size,\n",
        "                                           shuffle = False, num_workers = 2,\n",
        "                                           drop_last = True)\n",
        "n = 3\n",
        "for i, [imgs, labels] in enumerate(test_loader):\n",
        "    if i > 5:\n",
        "        break\n",
        "    print(\"[%d]\" %i)\n",
        "    print(\"한 번에 로드되는 데이터 크기:\", len(imgs))\n",
        "\n",
        "    x = Variable(imgs)#.cuda()\n",
        "    x = x.reshape((x.shape[0], x.shape[2], x.shape[3]))\n",
        "    y = Variable(labels)#.cuda()\n",
        "\n",
        "    print(x.shape)\n",
        "    print(y.shape)\n",
        "\n",
        "    for j in range(n):\n",
        "        img = imgs[j].numpy()\n",
        "        img = img.reshape((img.shape[1], img.shape[2]))\n",
        "\n",
        "        plt.subplot(1, n, j + 1)\n",
        "        plt.imshow(img, cmap = 'gray')\n",
        "        plt.title(\"label: %d\" %labels[j])\n",
        "    plt.show"
      ],
      "metadata": {
        "colab": {
          "base_uri": "https://localhost:8080/",
          "height": 641
        },
        "id": "jMGDbfDsG2h7",
        "outputId": "4d58bdf5-288a-49c4-cc32-4eef30bc4360"
      },
      "execution_count": 78,
      "outputs": [
        {
          "output_type": "stream",
          "name": "stdout",
          "text": [
            "[0]\n",
            "한 번에 로드되는 데이터 크기: 16\n",
            "torch.Size([16, 28, 28])\n",
            "torch.Size([16])\n",
            "[1]\n",
            "한 번에 로드되는 데이터 크기: 16\n",
            "torch.Size([16, 28, 28])\n",
            "torch.Size([16])\n",
            "[2]\n",
            "한 번에 로드되는 데이터 크기: 16\n",
            "torch.Size([16, 28, 28])\n",
            "torch.Size([16])\n",
            "[3]\n",
            "한 번에 로드되는 데이터 크기: 16\n",
            "torch.Size([16, 28, 28])\n",
            "torch.Size([16])\n",
            "[4]\n",
            "한 번에 로드되는 데이터 크기: 16\n",
            "torch.Size([16, 28, 28])\n",
            "torch.Size([16])\n",
            "[5]\n",
            "한 번에 로드되는 데이터 크기: 16\n",
            "torch.Size([16, 28, 28])\n",
            "torch.Size([16])\n"
          ]
        },
        {
          "output_type": "stream",
          "name": "stderr",
          "text": [
            "/usr/local/lib/python3.7/dist-packages/ipykernel_launcher.py:27: MatplotlibDeprecationWarning: Adding an axes using the same arguments as a previous axes currently reuses the earlier instance.  In a future version, a new instance will always be created and returned.  Meanwhile, this warning can be suppressed, and the future behavior ensured, by passing a unique label to each axes instance.\n"
          ]
        },
        {
          "output_type": "display_data",
          "data": {
            "text/plain": [
              "<Figure size 432x288 with 3 Axes>"
            ],
            "image/png": "[encoded data removed]"
          },
          "metadata": {
            "needs_background": "light"
          }
        }
      ]
    }
  ]
}